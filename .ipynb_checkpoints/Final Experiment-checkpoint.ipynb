{
 "cells": [
  {
   "cell_type": "markdown",
   "metadata": {},
   "source": [
    "#### Technique: \n",
    "- Random over-sampling, random under-sampling, no sampling SMOTE, SMOTE+ENN, Smote + Tomek links.\n",
    "\n",
    "#### Metrics:  \n",
    " - G-mean (geometric mean), Adjusted Geometric Mean and F-measure.\n",
    "\n",
    "#### Models: \n",
    "- MLP (Neural networks model) , LR (Linear model) and RF (Ensemble model)\n",
    "\n",
    "#### Procedure: \n",
    "- Stratified 10-fold cross-validation"
   ]
  },
  {
   "cell_type": "code",
   "execution_count": 1,
   "metadata": {
    "collapsed": true
   },
   "outputs": [],
   "source": [
    "from imblearn.over_sampling import SMOTE\n",
    "from imblearn.combine import SMOTEENN\n",
    "from imblearn.combine import SMOTETomek\n",
    "from imblearn.under_sampling import  RandomUnderSampler\n",
    "from imblearn.over_sampling import  RandomOverSampler"
   ]
  },
  {
   "cell_type": "code",
   "execution_count": 2,
   "metadata": {
    "collapsed": true
   },
   "outputs": [],
   "source": [
    "class Technique:\n",
    "    \n",
    "    def __init__(self,data):\n",
    "        self.y = data.loc[:,'Dropout']\n",
    "        self.X = data.drop('Dropout',1)\n",
    "        \n",
    "    def random_over_sampling(self):\n",
    "        return RandomOverSampler(random_state=0).fit_sample(self.X, self.y)\n",
    "    \n",
    "    def random_under_sampling(self):\n",
    "        return RandomUnderSampler(random_state=0).fit_sample(self.X, self.y)\n",
    "    \n",
    "    def smote(self):\n",
    "        return SMOTE(kind = \"regular\").fit_sample(self.X, self.y)\n",
    "    \n",
    "    def smote_tomek_links(self):\n",
    "        return SMOTETomek(random_state=0).fit_sample(self.X, self.y)\n",
    "        \n",
    "    def smote_enn(self):\n",
    "        return SMOTEENN(random_state=0).fit_sample(self.X, self.y)\n",
    "      "
   ]
  },
  {
   "cell_type": "code",
   "execution_count": 3,
   "metadata": {
    "collapsed": true
   },
   "outputs": [],
   "source": [
    "from sklearn.metrics import confusion_matrix\n",
    "import numpy as np"
   ]
  },
  {
   "cell_type": "code",
   "execution_count": 4,
   "metadata": {
    "collapsed": true
   },
   "outputs": [],
   "source": [
    " class Metrics:\n",
    "        \n",
    "        def __init__(self,ytrue,ypred):\n",
    "            self.conf_matrix   = confusion_matrix(ytrue, ypred)\n",
    "            self.true_positive = self.conf_matrix[1,1]\n",
    "            self.true_negative = self.conf_matrix[0,0]\n",
    "            self.false_positive= self.conf_matrix[0,1]\n",
    "            self.false_negative= self.conf_matrix[1,0]\n",
    "            \n",
    "            self.tpr = self.true_positive / float(self.false_negative + self.true_positive)\n",
    "            self.tnr = self.true_negative / float(self.true_negative + self.true_positive) \n",
    "            self.fpr = self.false_positive / float(self.true_positive + self.false_positive)\n",
    "            self.fnr = self.false_negative / float(self.true_positive + self.false_negative)\n",
    "            self.ppv = self.true_positive / float(self.true_positive + self.false_positive)\n",
    "            \n",
    "        def gm(self):\n",
    "            return np.sqrt(self.tpr*self.tnr)\n",
    "\n",
    "        def agm(self):    \n",
    "            return (self.gm() + self.tnr)*(self.false_positive + self.true_negative)/\\\n",
    "        (1 + self.false_positive  + self.true_negative) if self.tpr > 0 else 0\n",
    "\n",
    "        def f_score(self):\n",
    "            return 2*self.ppv*self.tnr/(self.ppv + self.tnr)\n",
    "            "
   ]
  },
  {
   "cell_type": "code",
   "execution_count": 5,
   "metadata": {
    "collapsed": true
   },
   "outputs": [],
   "source": [
    "from sklearn.neural_network import MLPClassifier\n",
    "from sklearn.linear_model import LogisticRegression\n",
    "from sklearn.ensemble import RandomForestClassifier"
   ]
  },
  {
   "cell_type": "code",
   "execution_count": 6,
   "metadata": {
    "collapsed": true
   },
   "outputs": [],
   "source": [
    "class Models:\n",
    "    \n",
    "    def __init__(self):\n",
    "        self.MLP = MLPClassifier()\n",
    "        self.LR  = LogisticRegression()\n",
    "        self.RF  = RandomForestClassifier()\n",
    "\n",
    "    def multlayer_paceptron(self):\n",
    "        return self.MLP\n",
    "    \n",
    "    def logistic_regression(self):\n",
    "        return self.LR\n",
    "    \n",
    "    def random_forest(self):\n",
    "        return self.RF\n",
    "    "
   ]
  },
  {
   "cell_type": "code",
   "execution_count": 7,
   "metadata": {},
   "outputs": [
    {
     "name": "stderr",
     "output_type": "stream",
     "text": [
      "C:\\ProgramData\\Anaconda3\\lib\\site-packages\\sklearn\\cross_validation.py:41: DeprecationWarning: This module was deprecated in version 0.18 in favor of the model_selection module into which all the refactored classes and functions are moved. Also note that the interface of the new CV iterators are different from that of this module. This module will be removed in 0.20.\n",
      "  \"This module will be removed in 0.20.\", DeprecationWarning)\n"
     ]
    }
   ],
   "source": [
    "from sklearn import model_selection, cross_validation\n",
    "from sklearn.utils import shuffle\n",
    "import warnings\n",
    "warnings.filterwarnings('ignore')"
   ]
  },
  {
   "cell_type": "code",
   "execution_count": 8,
   "metadata": {
    "collapsed": true
   },
   "outputs": [],
   "source": [
    "def test_result(X_val,y_val, model):\n",
    "    ypred_val = model.predict(X_val)\n",
    "    metrics = Metrics(ypred_val, y_val)\n",
    "    gm, agm,fscore= metrics.gm(),metrics.agm(),metrics.f_score()\n",
    "    return  gm, agm,fscore"
   ]
  },
  {
   "cell_type": "code",
   "execution_count": 9,
   "metadata": {
    "collapsed": true
   },
   "outputs": [],
   "source": [
    "def cross_validate(model, x, y, xval,yval, folds=10, repeats=10):\n",
    "    \n",
    "    ypred     = np.zeros((len(y),repeats))\n",
    "    ypred_val = np.zeros((len(yval),repeats))\n",
    "    gm        = np.zeros(repeats)\n",
    "    agm       = np.zeros(repeats)\n",
    "    f_score   = np.zeros(repeats)\n",
    "    gm_val    = np.zeros(repeats)\n",
    "    agm_val   = np.zeros(repeats)\n",
    "    f_score_val = np.zeros(repeats)\n",
    "    \n",
    "    for r in range(repeats):\n",
    "        i=0\n",
    "        x,y = shuffle(x,y,random_state=r)\n",
    "        kf = model_selection.StratifiedKFold(n_splits=folds,  shuffle=True, random_state=i+1000)\n",
    "        for train_ind,test_ind in kf.split(x,y):\n",
    "            xtrain,ytrain = x[train_ind,:],y[train_ind]\n",
    "            xtest,ytest = x[test_ind,:],y[test_ind]\n",
    "            model.fit(xtrain, ytrain)\n",
    "            ypred[test_ind,r] = model.predict(xtest)\n",
    "            i+=1\n",
    "            metrics = Metrics(ypred[:,r],y)\n",
    "            gm[r], agm[r],f_score[r]= metrics.gm(),metrics.agm(),metrics.f_score()\n",
    "            gm_val[r], agm_val[r], f_score_val[r]= test_result(xval,yval, model)\n",
    "            \n",
    "            \n",
    "    return  np.mean(gm),np.mean(agm),np.mean(f_score),np.mean(gm_val),\\\n",
    "np.mean(agm_val),np.mean(f_score_val)"
   ]
  },
  {
   "cell_type": "markdown",
   "metadata": {},
   "source": [
    "## DATA VISUALIZATION"
   ]
  },
  {
   "cell_type": "code",
   "execution_count": 10,
   "metadata": {
    "collapsed": true
   },
   "outputs": [],
   "source": [
    "import pandas as pd"
   ]
  },
  {
   "cell_type": "code",
   "execution_count": 11,
   "metadata": {
    "collapsed": true
   },
   "outputs": [],
   "source": [
    "def load_cleandata(file_name):\n",
    "    '''\n",
    "    Function to load saved clean data (train, test and valiadtion set) \n",
    "    file_name = path of the data\n",
    "    '''\n",
    "    df = pd.read_csv(file_name)\n",
    "    df.drop('Unnamed: 0', axis=1, inplace=True)\n",
    "\n",
    "    return df"
   ]
  },
  {
   "cell_type": "code",
   "execution_count": 12,
   "metadata": {},
   "outputs": [
    {
     "ename": "FileNotFoundError",
     "evalue": "File b'train.csv' does not exist",
     "output_type": "error",
     "traceback": [
      "\u001b[1;31m---------------------------------------------------------------------------\u001b[0m",
      "\u001b[1;31mFileNotFoundError\u001b[0m                         Traceback (most recent call last)",
      "\u001b[1;32m<ipython-input-12-84232833a809>\u001b[0m in \u001b[0;36m<module>\u001b[1;34m()\u001b[0m\n\u001b[1;32m----> 1\u001b[1;33m \u001b[0mtrain_data\u001b[0m \u001b[1;33m=\u001b[0m \u001b[0mload_cleandata\u001b[0m\u001b[1;33m(\u001b[0m\u001b[1;34m\"train.csv\"\u001b[0m\u001b[1;33m)\u001b[0m\u001b[1;33m\u001b[0m\u001b[0m\n\u001b[0m",
      "\u001b[1;32m<ipython-input-11-8c3e07a81970>\u001b[0m in \u001b[0;36mload_cleandata\u001b[1;34m(file_name)\u001b[0m\n\u001b[0;32m      4\u001b[0m     \u001b[0mfile_name\u001b[0m \u001b[1;33m=\u001b[0m \u001b[0mpath\u001b[0m \u001b[0mof\u001b[0m \u001b[0mthe\u001b[0m \u001b[0mdata\u001b[0m\u001b[1;33m\u001b[0m\u001b[0m\n\u001b[0;32m      5\u001b[0m     '''\n\u001b[1;32m----> 6\u001b[1;33m     \u001b[0mdf\u001b[0m \u001b[1;33m=\u001b[0m \u001b[0mpd\u001b[0m\u001b[1;33m.\u001b[0m\u001b[0mread_csv\u001b[0m\u001b[1;33m(\u001b[0m\u001b[0mfile_name\u001b[0m\u001b[1;33m)\u001b[0m\u001b[1;33m\u001b[0m\u001b[0m\n\u001b[0m\u001b[0;32m      7\u001b[0m     \u001b[0mdf\u001b[0m\u001b[1;33m.\u001b[0m\u001b[0mdrop\u001b[0m\u001b[1;33m(\u001b[0m\u001b[1;34m'Unnamed: 0'\u001b[0m\u001b[1;33m,\u001b[0m \u001b[0maxis\u001b[0m\u001b[1;33m=\u001b[0m\u001b[1;36m1\u001b[0m\u001b[1;33m,\u001b[0m \u001b[0minplace\u001b[0m\u001b[1;33m=\u001b[0m\u001b[1;32mTrue\u001b[0m\u001b[1;33m)\u001b[0m\u001b[1;33m\u001b[0m\u001b[0m\n\u001b[0;32m      8\u001b[0m \u001b[1;33m\u001b[0m\u001b[0m\n",
      "\u001b[1;32mC:\\ProgramData\\Anaconda3\\lib\\site-packages\\pandas\\io\\parsers.py\u001b[0m in \u001b[0;36mparser_f\u001b[1;34m(filepath_or_buffer, sep, delimiter, header, names, index_col, usecols, squeeze, prefix, mangle_dupe_cols, dtype, engine, converters, true_values, false_values, skipinitialspace, skiprows, nrows, na_values, keep_default_na, na_filter, verbose, skip_blank_lines, parse_dates, infer_datetime_format, keep_date_col, date_parser, dayfirst, iterator, chunksize, compression, thousands, decimal, lineterminator, quotechar, quoting, escapechar, comment, encoding, dialect, tupleize_cols, error_bad_lines, warn_bad_lines, skipfooter, skip_footer, doublequote, delim_whitespace, as_recarray, compact_ints, use_unsigned, low_memory, buffer_lines, memory_map, float_precision)\u001b[0m\n\u001b[0;32m    707\u001b[0m                     skip_blank_lines=skip_blank_lines)\n\u001b[0;32m    708\u001b[0m \u001b[1;33m\u001b[0m\u001b[0m\n\u001b[1;32m--> 709\u001b[1;33m         \u001b[1;32mreturn\u001b[0m \u001b[0m_read\u001b[0m\u001b[1;33m(\u001b[0m\u001b[0mfilepath_or_buffer\u001b[0m\u001b[1;33m,\u001b[0m \u001b[0mkwds\u001b[0m\u001b[1;33m)\u001b[0m\u001b[1;33m\u001b[0m\u001b[0m\n\u001b[0m\u001b[0;32m    710\u001b[0m \u001b[1;33m\u001b[0m\u001b[0m\n\u001b[0;32m    711\u001b[0m     \u001b[0mparser_f\u001b[0m\u001b[1;33m.\u001b[0m\u001b[0m__name__\u001b[0m \u001b[1;33m=\u001b[0m \u001b[0mname\u001b[0m\u001b[1;33m\u001b[0m\u001b[0m\n",
      "\u001b[1;32mC:\\ProgramData\\Anaconda3\\lib\\site-packages\\pandas\\io\\parsers.py\u001b[0m in \u001b[0;36m_read\u001b[1;34m(filepath_or_buffer, kwds)\u001b[0m\n\u001b[0;32m    447\u001b[0m \u001b[1;33m\u001b[0m\u001b[0m\n\u001b[0;32m    448\u001b[0m     \u001b[1;31m# Create the parser.\u001b[0m\u001b[1;33m\u001b[0m\u001b[1;33m\u001b[0m\u001b[0m\n\u001b[1;32m--> 449\u001b[1;33m     \u001b[0mparser\u001b[0m \u001b[1;33m=\u001b[0m \u001b[0mTextFileReader\u001b[0m\u001b[1;33m(\u001b[0m\u001b[0mfilepath_or_buffer\u001b[0m\u001b[1;33m,\u001b[0m \u001b[1;33m**\u001b[0m\u001b[0mkwds\u001b[0m\u001b[1;33m)\u001b[0m\u001b[1;33m\u001b[0m\u001b[0m\n\u001b[0m\u001b[0;32m    450\u001b[0m \u001b[1;33m\u001b[0m\u001b[0m\n\u001b[0;32m    451\u001b[0m     \u001b[1;32mif\u001b[0m \u001b[0mchunksize\u001b[0m \u001b[1;32mor\u001b[0m \u001b[0miterator\u001b[0m\u001b[1;33m:\u001b[0m\u001b[1;33m\u001b[0m\u001b[0m\n",
      "\u001b[1;32mC:\\ProgramData\\Anaconda3\\lib\\site-packages\\pandas\\io\\parsers.py\u001b[0m in \u001b[0;36m__init__\u001b[1;34m(self, f, engine, **kwds)\u001b[0m\n\u001b[0;32m    816\u001b[0m             \u001b[0mself\u001b[0m\u001b[1;33m.\u001b[0m\u001b[0moptions\u001b[0m\u001b[1;33m[\u001b[0m\u001b[1;34m'has_index_names'\u001b[0m\u001b[1;33m]\u001b[0m \u001b[1;33m=\u001b[0m \u001b[0mkwds\u001b[0m\u001b[1;33m[\u001b[0m\u001b[1;34m'has_index_names'\u001b[0m\u001b[1;33m]\u001b[0m\u001b[1;33m\u001b[0m\u001b[0m\n\u001b[0;32m    817\u001b[0m \u001b[1;33m\u001b[0m\u001b[0m\n\u001b[1;32m--> 818\u001b[1;33m         \u001b[0mself\u001b[0m\u001b[1;33m.\u001b[0m\u001b[0m_make_engine\u001b[0m\u001b[1;33m(\u001b[0m\u001b[0mself\u001b[0m\u001b[1;33m.\u001b[0m\u001b[0mengine\u001b[0m\u001b[1;33m)\u001b[0m\u001b[1;33m\u001b[0m\u001b[0m\n\u001b[0m\u001b[0;32m    819\u001b[0m \u001b[1;33m\u001b[0m\u001b[0m\n\u001b[0;32m    820\u001b[0m     \u001b[1;32mdef\u001b[0m \u001b[0mclose\u001b[0m\u001b[1;33m(\u001b[0m\u001b[0mself\u001b[0m\u001b[1;33m)\u001b[0m\u001b[1;33m:\u001b[0m\u001b[1;33m\u001b[0m\u001b[0m\n",
      "\u001b[1;32mC:\\ProgramData\\Anaconda3\\lib\\site-packages\\pandas\\io\\parsers.py\u001b[0m in \u001b[0;36m_make_engine\u001b[1;34m(self, engine)\u001b[0m\n\u001b[0;32m   1047\u001b[0m     \u001b[1;32mdef\u001b[0m \u001b[0m_make_engine\u001b[0m\u001b[1;33m(\u001b[0m\u001b[0mself\u001b[0m\u001b[1;33m,\u001b[0m \u001b[0mengine\u001b[0m\u001b[1;33m=\u001b[0m\u001b[1;34m'c'\u001b[0m\u001b[1;33m)\u001b[0m\u001b[1;33m:\u001b[0m\u001b[1;33m\u001b[0m\u001b[0m\n\u001b[0;32m   1048\u001b[0m         \u001b[1;32mif\u001b[0m \u001b[0mengine\u001b[0m \u001b[1;33m==\u001b[0m \u001b[1;34m'c'\u001b[0m\u001b[1;33m:\u001b[0m\u001b[1;33m\u001b[0m\u001b[0m\n\u001b[1;32m-> 1049\u001b[1;33m             \u001b[0mself\u001b[0m\u001b[1;33m.\u001b[0m\u001b[0m_engine\u001b[0m \u001b[1;33m=\u001b[0m \u001b[0mCParserWrapper\u001b[0m\u001b[1;33m(\u001b[0m\u001b[0mself\u001b[0m\u001b[1;33m.\u001b[0m\u001b[0mf\u001b[0m\u001b[1;33m,\u001b[0m \u001b[1;33m**\u001b[0m\u001b[0mself\u001b[0m\u001b[1;33m.\u001b[0m\u001b[0moptions\u001b[0m\u001b[1;33m)\u001b[0m\u001b[1;33m\u001b[0m\u001b[0m\n\u001b[0m\u001b[0;32m   1050\u001b[0m         \u001b[1;32melse\u001b[0m\u001b[1;33m:\u001b[0m\u001b[1;33m\u001b[0m\u001b[0m\n\u001b[0;32m   1051\u001b[0m             \u001b[1;32mif\u001b[0m \u001b[0mengine\u001b[0m \u001b[1;33m==\u001b[0m \u001b[1;34m'python'\u001b[0m\u001b[1;33m:\u001b[0m\u001b[1;33m\u001b[0m\u001b[0m\n",
      "\u001b[1;32mC:\\ProgramData\\Anaconda3\\lib\\site-packages\\pandas\\io\\parsers.py\u001b[0m in \u001b[0;36m__init__\u001b[1;34m(self, src, **kwds)\u001b[0m\n\u001b[0;32m   1693\u001b[0m         \u001b[0mkwds\u001b[0m\u001b[1;33m[\u001b[0m\u001b[1;34m'allow_leading_cols'\u001b[0m\u001b[1;33m]\u001b[0m \u001b[1;33m=\u001b[0m \u001b[0mself\u001b[0m\u001b[1;33m.\u001b[0m\u001b[0mindex_col\u001b[0m \u001b[1;32mis\u001b[0m \u001b[1;32mnot\u001b[0m \u001b[1;32mFalse\u001b[0m\u001b[1;33m\u001b[0m\u001b[0m\n\u001b[0;32m   1694\u001b[0m \u001b[1;33m\u001b[0m\u001b[0m\n\u001b[1;32m-> 1695\u001b[1;33m         \u001b[0mself\u001b[0m\u001b[1;33m.\u001b[0m\u001b[0m_reader\u001b[0m \u001b[1;33m=\u001b[0m \u001b[0mparsers\u001b[0m\u001b[1;33m.\u001b[0m\u001b[0mTextReader\u001b[0m\u001b[1;33m(\u001b[0m\u001b[0msrc\u001b[0m\u001b[1;33m,\u001b[0m \u001b[1;33m**\u001b[0m\u001b[0mkwds\u001b[0m\u001b[1;33m)\u001b[0m\u001b[1;33m\u001b[0m\u001b[0m\n\u001b[0m\u001b[0;32m   1696\u001b[0m \u001b[1;33m\u001b[0m\u001b[0m\n\u001b[0;32m   1697\u001b[0m         \u001b[1;31m# XXX\u001b[0m\u001b[1;33m\u001b[0m\u001b[1;33m\u001b[0m\u001b[0m\n",
      "\u001b[1;32mpandas\\_libs\\parsers.pyx\u001b[0m in \u001b[0;36mpandas._libs.parsers.TextReader.__cinit__\u001b[1;34m()\u001b[0m\n",
      "\u001b[1;32mpandas\\_libs\\parsers.pyx\u001b[0m in \u001b[0;36mpandas._libs.parsers.TextReader._setup_parser_source\u001b[1;34m()\u001b[0m\n",
      "\u001b[1;31mFileNotFoundError\u001b[0m: File b'train.csv' does not exist"
     ]
    }
   ],
   "source": [
    "train_data = load_cleandata(\"train.csv\")"
   ]
  },
  {
   "cell_type": "code",
   "execution_count": null,
   "metadata": {
    "collapsed": true
   },
   "outputs": [],
   "source": [
    "import matplotlib.pyplot as plt"
   ]
  },
  {
   "cell_type": "code",
   "execution_count": null,
   "metadata": {},
   "outputs": [],
   "source": [
    "ax = train_data.Dropout.value_counts().plot(kind='bar')\n",
    "ax.set_title(\"Dropout Breakdown (1 = not-dropout, 0 = dropout)\")\n",
    "ax.set_ylabel(\"Number of Students\")\n",
    "plt.savefig('images/original_data.pdf');\n",
    "plt.show()"
   ]
  },
  {
   "cell_type": "markdown",
   "metadata": {},
   "source": [
    "### APPLYING IMBALANCE TECHNIQUES"
   ]
  },
  {
   "cell_type": "code",
   "execution_count": null,
   "metadata": {
    "collapsed": true
   },
   "outputs": [],
   "source": [
    "imbalance_technique = Technique(train_data)"
   ]
  },
  {
   "cell_type": "code",
   "execution_count": null,
   "metadata": {
    "collapsed": true
   },
   "outputs": [],
   "source": [
    "def graph(name,technique,unique,counts):\n",
    "    bar_width = 0.2\n",
    "    postion = np.arange(len(unique))\n",
    "    plt.bar(postion, counts, bar_width, align='center')\n",
    "    plt.xticks(postion, unique, rotation=0)\n",
    "    plt.title(technique+\" Dropout Breakdown (1 = not-dropout, 0 = dropout)\")\n",
    "    plt.ylabel(\"Number of Students\")\n",
    "    plt.savefig('images/'+name+'.pdf');\n",
    "    return plt.show()"
   ]
  },
  {
   "cell_type": "markdown",
   "metadata": {},
   "source": [
    "#### 1: RANDOM OVER SAMPLING"
   ]
  },
  {
   "cell_type": "code",
   "execution_count": null,
   "metadata": {},
   "outputs": [],
   "source": [
    "_, y_over = imbalance_technique.random_over_sampling()\n",
    "unique, counts = np.unique(y_over, return_counts=True)\n",
    "graph('random_over_sampling',\"Random Over Sampling\",unique,counts)"
   ]
  },
  {
   "cell_type": "markdown",
   "metadata": {},
   "source": [
    "#### 2: RANDOM UNDER SAMPLING"
   ]
  },
  {
   "cell_type": "code",
   "execution_count": null,
   "metadata": {},
   "outputs": [],
   "source": [
    "_, y_under = imbalance_technique.random_under_sampling()\n",
    "unique, counts = np.unique(y_under, return_counts=True)\n",
    "graph('random_under_sampling',\"Random Under Sampling\",unique,counts)"
   ]
  },
  {
   "cell_type": "markdown",
   "metadata": {},
   "source": [
    "#### 3: SMOTE"
   ]
  },
  {
   "cell_type": "code",
   "execution_count": null,
   "metadata": {},
   "outputs": [],
   "source": [
    "_, y_smote = imbalance_technique.smote()\n",
    "unique, counts = np.unique(y_smote, return_counts=True)\n",
    "graph('somte',\"SMOTE\",unique,counts)"
   ]
  },
  {
   "cell_type": "markdown",
   "metadata": {},
   "source": [
    "#### 4: SMOTE TOMEK LINKS"
   ]
  },
  {
   "cell_type": "code",
   "execution_count": null,
   "metadata": {},
   "outputs": [],
   "source": [
    "_, y_smote_tomek = imbalance_technique.smote_tomek_links()\n",
    "unique, counts = np.unique(y_smote_tomek, return_counts=True)\n",
    "graph('smote_tomek_links',\"Smote Tomek Links\",unique,counts)"
   ]
  },
  {
   "cell_type": "markdown",
   "metadata": {},
   "source": [
    "#### 4: SMOTE ENN"
   ]
  },
  {
   "cell_type": "code",
   "execution_count": null,
   "metadata": {},
   "outputs": [],
   "source": [
    "_, y_smote_enn = imbalance_technique.smote_enn()\n",
    "unique, counts = np.unique(y_smote_enn, return_counts=True)\n",
    "graph('smote_enn',\"SMOTE+ENN\",unique,counts)"
   ]
  },
  {
   "cell_type": "markdown",
   "metadata": {},
   "source": [
    "## Evaluation Of Imbalance Techniques For Each Model"
   ]
  },
  {
   "cell_type": "code",
   "execution_count": null,
   "metadata": {
    "collapsed": true
   },
   "outputs": [],
   "source": [
    "def experiment(X,y,X_val,y_val):\n",
    "    \n",
    "    gm_train = []\n",
    "    agm_train = []\n",
    "    f_score_train = []\n",
    "    gm_val = []\n",
    "    agm_val = []\n",
    "    f_score_val = []\n",
    "    \n",
    "    names  = ['MLP','LR','RF']\n",
    "    model  = Models()\n",
    "    models = [model.multlayer_paceptron(),model.logistic_regression(),model.random_forest()]\n",
    "    \n",
    "    for (i,clf) in enumerate(models):\n",
    "        print('Cross Validating - ', str(names[i]))\n",
    "        gm_t, agm_t,f_t, gm_v, agm_v, f_v =  cross_validate(clf, np.array(X), y, X_val,y_val,\\\n",
    "                                                                           folds=10, repeats=10) \n",
    "        gm_train.append(gm_t)\n",
    "        agm_train.append(agm_t)\n",
    "        f_score_train.append(f_t)\n",
    "        gm_val.append(gm_v)\n",
    "        agm_val.append(agm_v)\n",
    "        f_score_val.append(f_v)\n",
    "        \n",
    "    results = {'name':names,\n",
    "               'train_gm':gm_train,\n",
    "               'train_agm':agm_train,\n",
    "               'train_fscore':f_score_train,\n",
    "               'val_gm':gm_val,\n",
    "               'val_agm':agm_val,\n",
    "               'val_fscore':f_score_val}\n",
    "    return results     "
   ]
  },
  {
   "cell_type": "code",
   "execution_count": null,
   "metadata": {
    "collapsed": true
   },
   "outputs": [],
   "source": [
    "def plot_valiadation(plot_name, plot_title, results):\n",
    "    fig = plt.figure()\n",
    "    ax = fig.add_subplot(111)\n",
    "    position = np.arange(len(results['name']))\n",
    "    bar_width = 0.15\n",
    "\n",
    "    plt.bar(position - bar_width, results['val_gm'], bar_width,label='$G_m$')\n",
    "    plt.bar(position, results['val_fscore'], bar_width, label='$F_m$')\n",
    "    plt.bar(position + bar_width, results['val_agm'], bar_width,label='$AG_m$')\n",
    "    plt.ylabel('Validation Scores')\n",
    "    plt.title(plot_title)\n",
    "    plt.xticks(position, results['name'],rotation=90)\n",
    "    ax.legend(bbox_to_anchor=(1, 0.25), loc='best', ncol=1)\n",
    "    plt.savefig('images/'+plot_name+'.pdf');\n",
    "    plt.show()"
   ]
  },
  {
   "cell_type": "code",
   "execution_count": null,
   "metadata": {
    "collapsed": true
   },
   "outputs": [],
   "source": [
    "def plot_training(plot_name, plot_title, results):\n",
    "    \n",
    "    fig = plt.figure()\n",
    "    ax = fig.add_subplot(111)\n",
    "    position = np.arange(len(results['name']))\n",
    "    bar_width = 0.15\n",
    "\n",
    "    plt.bar(position - bar_width, results['train_gm'], bar_width,label='$G_m$')\n",
    "    plt.bar(position, results['train_fscore'], bar_width, label='$F_m$')\n",
    "    plt.bar(position + bar_width, results['train_agm'], bar_width,label='$AG_m$')\n",
    "    plt.ylabel('Training Scores')\n",
    "    plt.title(plot_title)\n",
    "    plt.xticks(position, results['name'],rotation=90)\n",
    "    ax.legend(bbox_to_anchor=(1, 0.25), loc='best', ncol=1)\n",
    "    plt.savefig('images/'+plot_name+'.pdf');\n",
    "    plt.show()"
   ]
  },
  {
   "cell_type": "code",
   "execution_count": null,
   "metadata": {
    "collapsed": true
   },
   "outputs": [],
   "source": [
    "train_data = load_cleandata(\"train.csv\")\n",
    "val_data = load_cleandata(\"validate.csv\")\n",
    "\n",
    "y_train = train_data.loc[:,'Dropout']\n",
    "X_train = train_data.drop('Dropout',1)\n",
    "\n",
    "y_validate = val_data.loc[:,'Dropout']\n",
    "X_validate = val_data.drop('Dropout',1)"
   ]
  },
  {
   "cell_type": "markdown",
   "metadata": {},
   "source": [
    "#### Step 1: NO SAMPLING"
   ]
  },
  {
   "cell_type": "code",
   "execution_count": null,
   "metadata": {},
   "outputs": [],
   "source": [
    "results = experiment(X_train,y_train,X_validate,y_validate)"
   ]
  },
  {
   "cell_type": "markdown",
   "metadata": {},
   "source": [
    "plot_training(plot_name=\"Training_results_no_sampling\", \\\n",
    "              plot_title=\"Experiment 1: Training Results by Models (No Sampling)\", results=results)"
   ]
  },
  {
   "cell_type": "code",
   "execution_count": null,
   "metadata": {
    "collapsed": true
   },
   "outputs": [],
   "source": [
    "plot_valiadation(plot_name=\"Validation_results_no_sampling\", \\\n",
    "                 plot_title=\"Experiment 1: Validation Results by Models (No Sampling)\", results=results)"
   ]
  },
  {
   "cell_type": "markdown",
   "metadata": {},
   "source": [
    "#### Step 1: RANDOM OVER SAMPLING"
   ]
  },
  {
   "cell_type": "code",
   "execution_count": null,
   "metadata": {
    "collapsed": true
   },
   "outputs": [],
   "source": [
    "imbalance_technique_train = Technique(train_data)\n",
    "imbalance_technique_validate = Technique(val_data)"
   ]
  },
  {
   "cell_type": "code",
   "execution_count": null,
   "metadata": {
    "collapsed": true
   },
   "outputs": [],
   "source": [
    "x_over_train, y_over_train = imbalance_technique_train.random_over_sampling()\n",
    "x_over_validate, y_over_validate = imbalance_technique_validate.random_over_sampling()"
   ]
  },
  {
   "cell_type": "code",
   "execution_count": null,
   "metadata": {
    "collapsed": true
   },
   "outputs": [],
   "source": [
    "results = experiment(x_over_train,y_over_train,x_over_validate,y_over_validate)"
   ]
  },
  {
   "cell_type": "code",
   "execution_count": null,
   "metadata": {
    "collapsed": true
   },
   "outputs": [],
   "source": [
    "plot_training(plot_name=\"Training_results_over_sampling\", \\\n",
    "              plot_title=\"Experiment 1: Training Results by Models (Over Sampling)\", results=results)"
   ]
  },
  {
   "cell_type": "code",
   "execution_count": null,
   "metadata": {
    "collapsed": true
   },
   "outputs": [],
   "source": [
    "plot_valiadation(plot_name=\"Validation_results_Over_sampling\", \\\n",
    "                 plot_title=\"Experiment 1: Validation Results by Models (Over Sampling)\", results=results)"
   ]
  },
  {
   "cell_type": "markdown",
   "metadata": {},
   "source": [
    "#### Step 2: RANDOM UNDER SAMPLING"
   ]
  },
  {
   "cell_type": "code",
   "execution_count": null,
   "metadata": {
    "collapsed": true
   },
   "outputs": [],
   "source": [
    "x_under_train, y_under_train = imbalance_technique_train.random_under_sampling()\n",
    "x_under_validate, y_under_validate = imbalance_technique_validate.random_under_sampling()"
   ]
  },
  {
   "cell_type": "code",
   "execution_count": null,
   "metadata": {
    "collapsed": true
   },
   "outputs": [],
   "source": [
    "results = experiment(x_under_train,y_under_train,x_under_validate,y_under_validate)"
   ]
  },
  {
   "cell_type": "code",
   "execution_count": null,
   "metadata": {
    "collapsed": true
   },
   "outputs": [],
   "source": [
    "plot_training(plot_name=\"Training_results_Under_sampling\", \\\n",
    "              plot_title=\"Experiment 1: Training Results by Models (Under Sampling)\", results=results)"
   ]
  },
  {
   "cell_type": "code",
   "execution_count": null,
   "metadata": {
    "collapsed": true
   },
   "outputs": [],
   "source": [
    "plot_valiadation(plot_name=\"Validation_results_Over_sampling\", \\\n",
    "                 plot_title=\"Experiment 1: Validation Results by Models (Under Sampling)\", results=results)"
   ]
  },
  {
   "cell_type": "markdown",
   "metadata": {},
   "source": [
    "#### Step 3: SMOTE"
   ]
  },
  {
   "cell_type": "code",
   "execution_count": null,
   "metadata": {
    "collapsed": true
   },
   "outputs": [],
   "source": [
    "x_smote_train, y_smote_train = imbalance_technique_train.smote()\n",
    "x_smote_validate, y_smote_validate = imbalance_technique_validate.smote()"
   ]
  },
  {
   "cell_type": "code",
   "execution_count": null,
   "metadata": {
    "collapsed": true
   },
   "outputs": [],
   "source": [
    "results = experiment(x_smote_train,y_smote_train,x_smote_validate,y_smote_validate)"
   ]
  },
  {
   "cell_type": "code",
   "execution_count": null,
   "metadata": {
    "collapsed": true
   },
   "outputs": [],
   "source": [
    "plot_training(plot_name=\"Training_results_SMOTE\", \\\n",
    "              plot_title=\"Experiment 1: Training Results by Models (SMOTE)\", results=results)"
   ]
  },
  {
   "cell_type": "code",
   "execution_count": null,
   "metadata": {
    "collapsed": true
   },
   "outputs": [],
   "source": [
    "plot_valiadation(plot_name=\"Validation_results_SMOTE\", \\\n",
    "                 plot_title=\"Experiment 1: Validation Results by Models (SMOTE)\", results=results)"
   ]
  },
  {
   "cell_type": "markdown",
   "metadata": {},
   "source": [
    "#### Step 3: SMOTE TOMEK LINKS"
   ]
  },
  {
   "cell_type": "code",
   "execution_count": null,
   "metadata": {
    "collapsed": true
   },
   "outputs": [],
   "source": [
    "x_smote_tomek_links_train, y_smote_tomek_links_train = imbalance_technique_train.smote_tomek_links()\n",
    "x_smote_tomek_links_validate, y_smote_tomek_links_validate = imbalance_technique_validate.smote_tomek_links()"
   ]
  },
  {
   "cell_type": "code",
   "execution_count": null,
   "metadata": {
    "collapsed": true
   },
   "outputs": [],
   "source": [
    "results = experiment(x_smote_tomek_links_train,y_smote_tomek_links_train,x_smote_tomek_links_validate,\\\n",
    "                     y_smote_tomek_links_validate)"
   ]
  },
  {
   "cell_type": "code",
   "execution_count": null,
   "metadata": {
    "collapsed": true
   },
   "outputs": [],
   "source": [
    "plot_training(plot_name=\"Training_results_SMOTE_TOMEK_LINKS\", \\\n",
    "              plot_title=\"Experiment 1: Training Results by Models (SMOTE TOMEK LINKS)\", results=results)"
   ]
  },
  {
   "cell_type": "code",
   "execution_count": null,
   "metadata": {
    "collapsed": true
   },
   "outputs": [],
   "source": [
    "plot_valiadation(plot_name=\"Validation_results_SMOTE_TOMEK_LINKS\", \\\n",
    "                 plot_title=\"Experiment 1: Validation Results by Models (SMOTE TOMEK LINKS)\", results=results)"
   ]
  },
  {
   "cell_type": "markdown",
   "metadata": {},
   "source": [
    "#### Step 4: SMOTE + ENN"
   ]
  },
  {
   "cell_type": "code",
   "execution_count": null,
   "metadata": {
    "collapsed": true
   },
   "outputs": [],
   "source": [
    "x_smote_enn_train, y_smote_enn_train = imbalance_technique_train.smote_enn()\n",
    "x_smote_enn_validate, y_smote_enn_validate = imbalance_technique_validate.smote_enn()"
   ]
  },
  {
   "cell_type": "code",
   "execution_count": null,
   "metadata": {
    "collapsed": true
   },
   "outputs": [],
   "source": [
    "results = experiment(x_smote_enn_train,y_smote_enn_train,x_smote_enn_validate,y_smote_enn_validate)"
   ]
  },
  {
   "cell_type": "code",
   "execution_count": null,
   "metadata": {
    "collapsed": true
   },
   "outputs": [],
   "source": [
    "plot_training(plot_name=\"Training_results_SMOTE_ENN\", \\\n",
    "              plot_title=\"Experiment 1: Training Results by Models (SMOTE ENN)\", results=results)"
   ]
  },
  {
   "cell_type": "code",
   "execution_count": null,
   "metadata": {
    "collapsed": true
   },
   "outputs": [],
   "source": [
    "plot_valiadation(plot_name=\"Validation_results_SMOTE_ENN\", \\\n",
    "                 plot_title=\"Experiment 1: Validation Results by Models (SMOTE ENN)\", results=results)"
   ]
  },
  {
   "cell_type": "code",
   "execution_count": null,
   "metadata": {
    "collapsed": true
   },
   "outputs": [],
   "source": []
  }
 ],
 "metadata": {
  "kernelspec": {
   "display_name": "Python 3",
   "language": "python",
   "name": "python3"
  },
  "language_info": {
   "codemirror_mode": {
    "name": "ipython",
    "version": 3
   },
   "file_extension": ".py",
   "mimetype": "text/x-python",
   "name": "python",
   "nbconvert_exporter": "python",
   "pygments_lexer": "ipython3",
   "version": "3.6.0"
  }
 },
 "nbformat": 4,
 "nbformat_minor": 2
}
